{
 "cells": [
  {
   "cell_type": "code",
   "execution_count": 7,
   "metadata": {
    "id": "EtzTVTPyVNHn"
   },
   "outputs": [],
   "source": [
    "import cv2\n",
    "import matplotlib.pyplot as plt\n",
    "import numpy as np"
   ]
  },
  {
   "cell_type": "code",
   "execution_count": 8,
   "metadata": {
    "id": "ZGdhb8EnVPuZ"
   },
   "outputs": [
    {
     "data": {
      "text/plain": [
       "<matplotlib.image.AxesImage at 0x1faee6479a0>"
      ]
     },
     "execution_count": 8,
     "metadata": {},
     "output_type": "execute_result"
    },
    {
     "data": {
      "image/png": "[encoded data removed]",
      "text/plain": [
       "<Figure size 432x288 with 1 Axes>"
      ]
     },
     "metadata": {
      "needs_background": "light"
     },
     "output_type": "display_data"
    }
   ],
   "source": [
    "img=cv2.imread(\"test.jpeg\")\n",
    "\n",
    "grey = cv2.cvtColor(img, cv2.COLOR_BGR2GRAY )\n",
    "grey = cv2.threshold(grey, 200, 255, cv2.THRESH_BINARY)[1]\n",
    "\n",
    "plt.imshow(grey,cmap=\"gray\")"
   ]
  },
  {
   "cell_type": "code",
   "execution_count": 9,
   "metadata": {
    "id": "qo4Pogc2b6_6"
   },
   "outputs": [
    {
     "name": "stdout",
     "output_type": "stream",
     "text": [
      "720 1280\n"
     ]
    }
   ],
   "source": [
    "n,m= grey.shape\n",
    "\n",
    "my_img=np.zeros((int(n),int(m)),dtype=np.int64)\n",
    "\n",
    "grey=grey/255\n",
    "\n",
    "print(n,m)"
   ]
  },
  {
   "cell_type": "code",
   "execution_count": 10,
   "metadata": {},
   "outputs": [],
   "source": [
    "def dir1(my_img,z,x,y,n,m):\n",
    "    o=0\n",
    "    if(z==0):\n",
    "        if(y+1<m ):  \n",
    "            if(grey[x][y+1]==1.):\n",
    "                my_img[x][y+1]=1.\n",
    "                y=y+1\n",
    "                o=1\n",
    "    if(z==1):\n",
    "        if(x-1>=0 ):\n",
    "            if( grey[x-1][y]==1.):\n",
    "                my_img[x-1][y]=1.\n",
    "                x=x-1\n",
    "                o=1\n",
    "    if(z==2):\n",
    "        if(y-1>=0 ):\n",
    "            if(grey[x][y-1]==1.):\n",
    "                my_img[x][y-1]=1.\n",
    "                y=y-1\n",
    "                o=1\n",
    "    if(z==3):\n",
    "        if(x+1<n ):\n",
    "            if(grey[x+1][y]==1.):\n",
    "                my_img[x+1][y]=1.\n",
    "                x=x+1\n",
    "                o=1\n",
    "    return(x,y,o)"
   ]
  },
  {
   "cell_type": "code",
   "execution_count": 11,
   "metadata": {
    "id": "ksVK8Wd0VfAV"
   },
   "outputs": [],
   "source": [
    "def boundary(image , my_img):\n",
    "  x=0\n",
    "  y=0\n",
    "  # o=0\n",
    "  r=0\n",
    "  di=3\n",
    "  t=0\n",
    "  h=0\n",
    "  li1=[[0,0],[0,0]]\n",
    "  li2=[[0,0],[0,0]]\n",
    "  while(t==0 and x<n ):\n",
    "    y=y+1\n",
    "    if( np. all((image[x][:] == 0))):\n",
    "      x=x+1\n",
    "      y=0\n",
    "    else:\n",
    "      if(y==m):\n",
    "        x=x+1\n",
    "        y=0\n",
    "      if(image[x][y]==1.):\n",
    "        t=1\n",
    "        my_img[x][y]=1.\n",
    "        li1[0][0]=x\n",
    "        li1[0][1]=y\n",
    "        print(x,y)\n",
    "  it1=0\n",
    "  h=x*y\n",
    "  op=h=h+1\n",
    "  # my_img[x][y]=1\n",
    "  dir=3\n",
    "  while(r==0 and h<n*m):\n",
    "    if([x,y]==li1[0]):\n",
    "      li2[0][0]=x\n",
    "      li2[0][1]=y\n",
    "      it1=h\n",
    "    if([x,y]==li1[1]and h==it1+1):\n",
    "      r=1\n",
    "    h=h+1\n",
    "    # if(x<n and y<m and grey[x][y]==1):\n",
    "    #   my_img[x][y]=1\n",
    "    dir=(dir+3)%4\n",
    "    x,y,o=dir1(my_img,dir,x,y,n,m) \n",
    "    # print(o)\n",
    "    if(o==0):\n",
    "      if(dir==3):\n",
    "        dir=0\n",
    "      else:\n",
    "        dir=dir+1\n",
    "\n",
    "   \n",
    "    if(o==0):\n",
    "      if(dir==3):\n",
    "        \n",
    "        x,y,o=dir1(my_img,dir,x,y,n,m)\n",
    "        if(o==0):\n",
    "          dir=0\n",
    "      else:\n",
    "        \n",
    "        x,y,o=dir1(my_img,dir,x,y,n,m)\n",
    "        if(o==0):\n",
    "          dir=dir+1\n",
    "    if(o==0):\n",
    "      if(dir==3):\n",
    "        \n",
    "        x,y,o=dir1(my_img,dir,x,y,n,m)\n",
    "        if(o==0):\n",
    "          dir=0\n",
    "      else:\n",
    "        \n",
    "        x,y,o=dir1(my_img,dir,x,y,n,m)\n",
    "        if(o==0):\n",
    "          dir=dir+1\n",
    "    if(o==0):\n",
    "      if(dir==3):\n",
    "        \n",
    "        x,y,o=dir1(my_img,dir,x,y,n,m)\n",
    "        if(o==0):\n",
    "          dir=0\n",
    "      else:\n",
    "        \n",
    "        x,y,o=dir1(my_img,dir,x,y,n,m)\n",
    "        if(o==0):\n",
    "          dir=dir+1\n",
    "    if(o==0):\n",
    "      r=1\n",
    "    if(o!=0):\n",
    "      my_img[x][y]=1.\n",
    "      if(h==op):\n",
    "        li1[1][0]=x\n",
    "        li2[1][1]=y\n",
    "      \n",
    "\n",
    "  plt.imshow(my_img,cmap=\"gray\")  "
   ]
  },
  {
   "cell_type": "code",
   "execution_count": 12,
   "metadata": {
    "colab": {
     "base_uri": "https://localhost:8080/",
     "height": 232
    },
    "id": "xr-B_Dia378J",
    "outputId": "3cca9de1-43f7-4e21-cf10-2975ce40a1a3"
   },
   "outputs": [
    {
     "name": "stdout",
     "output_type": "stream",
     "text": [
      "312 580\n"
     ]
    },
    {
     "data": {
      "image/png": "[encoded data removed]",
      "text/plain": [
       "<Figure size 432x288 with 1 Axes>"
      ]
     },
     "metadata": {
      "needs_background": "light"
     },
     "output_type": "display_data"
    }
   ],
   "source": [
    "boundary(grey,my_img)"
   ]
  },
  {
   "cell_type": "code",
   "execution_count": null,
   "metadata": {},
   "outputs": [],
   "source": []
  }
 ],
 "metadata": {
  "colab": {
   "collapsed_sections": [],
   "name": "Untitled10.ipynb",
   "provenance": []
  },
  "interpreter": {
   "hash": "8a6771ae3bcfbbb435683d44bfefa732a6b92877f708d12a784520c01c2ceaf5"
  },
  "kernelspec": {
   "display_name": "Python 3.8.3 ('base')",
   "language": "python",
   "name": "python3"
  },
  "language_info": {
   "codemirror_mode": {
    "name": "ipython",
    "version": 3
   },
   "file_extension": ".py",
   "mimetype": "text/x-python",
   "name": "python",
   "nbconvert_exporter": "python",
   "pygments_lexer": "ipython3",
   "version": "3.8.3"
  }
 },
 "nbformat": 4,
 "nbformat_minor": 1
}
